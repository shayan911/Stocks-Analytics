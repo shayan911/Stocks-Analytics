{
 "cells": [
  {
   "cell_type": "markdown",
   "metadata": {},
   "source": [
    "<h1>Extracting Stock Data Using a Web Scraping</h1>\n"
   ]
  },
  {
   "cell_type": "markdown",
   "metadata": {},
   "source": [
    "Not all stock data is available via API in this part; I will use web-scraping to obtain financial data.\\\n",
    "Using beautiful soup we will extract historical share data from a web-page.\n"
   ]
  },
  {
   "cell_type": "code",
   "execution_count": null,
   "metadata": {},
   "outputs": [],
   "source": [
    "#!pip install pandas==1.3.3\n",
    "#!pip install requests==2.26.0\n",
    "!mamba install bs4==4.10.0 -y\n",
    "!mamba install html5lib==1.1 -y\n",
    "!pip install lxml==4.6.4\n",
    "#!pip install plotly==5.3.1"
   ]
  },
  {
   "cell_type": "code",
   "execution_count": null,
   "metadata": {},
   "outputs": [],
   "source": [
    "import pandas as pd\n",
    "import requests\n",
    "from bs4 import BeautifulSoup"
   ]
  },
  {
   "cell_type": "markdown",
   "metadata": {},
   "source": [
    "## Using Webscraping to Extract Stock Data(Netflix)\n"
   ]
  },
  {
   "cell_type": "markdown",
   "metadata": {},
   "source": [
    "First we must use the `request` library to downlaod the webpage, and extract the text. We will extract Netflix stock data <https://cf-courses-data.s3.us.cloud-object-storage.appdomain.cloud/IBMDeveloperSkillsNetwork-PY0220EN-SkillsNetwork/labs/project/netflix_data_webpage.html>.\n"
   ]
  },
  {
   "cell_type": "code",
   "execution_count": 7,
   "metadata": {},
   "outputs": [],
   "source": [
    "import requests\n",
    "url = \"https://cf-courses-data.s3.us.cloud-object-storage.appdomain.cloud/IBMDeveloperSkillsNetwork-PY0220EN-SkillsNetwork/labs/project/netflix_data_webpage.html\"\n",
    "\n",
    "data  = requests.get(url).text"
   ]
  },
  {
   "cell_type": "markdown",
   "metadata": {},
   "source": [
    "Next we must parse the text into html using `beautiful_soup`\n"
   ]
  },
  {
   "cell_type": "code",
   "execution_count": 8,
   "metadata": {},
   "outputs": [],
   "source": [
    "soup = BeautifulSoup(data, 'html5lib')"
   ]
  },
  {
   "cell_type": "markdown",
   "metadata": {},
   "source": [
    "Now we can turn the html table into a pandas dataframe\n"
   ]
  },
  {
   "cell_type": "code",
   "execution_count": null,
   "metadata": {},
   "outputs": [],
   "source": [
    "netflix_data = pd.DataFrame(columns=[\"Date\", \"Open\", \"High\", \"Low\", \"Close\", \"Volume\"])\n",
    "\n",
    "# First we isolate the body of the table which contains all the information\n",
    "# Then we loop through each row and find all the column values for each row\n",
    "for row in soup.find(\"tbody\").find_all('tr'):\n",
    "    col = row.find_all(\"td\")\n",
    "    date = col[0].text\n",
    "    Open = col[1].text\n",
    "    high = col[2].text\n",
    "    low = col[3].text\n",
    "    close = col[4].text\n",
    "    adj_close = col[5].text\n",
    "    volume = col[6].text\n",
    "    \n",
    "    # Finally we append the data of each row to the table\n",
    "    netflix_data = netflix_data.append({\"Date\":date, \"Open\":Open, \"High\":high, \"Low\":low, \"Close\":close, \"Adj Close\":adj_close, \"Volume\":volume}, ignore_index=True)    "
   ]
  },
  {
   "cell_type": "markdown",
   "metadata": {},
   "source": [
    "We can now print out the dataframe\n"
   ]
  },
  {
   "cell_type": "code",
   "execution_count": null,
   "metadata": {},
   "outputs": [],
   "source": [
    "netflix_data.head()"
   ]
  },
  {
   "cell_type": "markdown",
   "metadata": {},
   "source": [
    "We can also use the pandas `read_html` function using the url\n"
   ]
  },
  {
   "cell_type": "code",
   "execution_count": 4,
   "metadata": {},
   "outputs": [
    {
     "data": {
      "text/plain": [
       "[                                                 Date  \\\n",
       " 0                                        Jun 01, 2021   \n",
       " 1                                        May 01, 2021   \n",
       " 2                                        Apr 01, 2021   \n",
       " 3                                        Mar 01, 2021   \n",
       " 4                                        Feb 01, 2021   \n",
       " ..                                                ...   \n",
       " 66                                       Dec 01, 2015   \n",
       " 67                                       Nov 01, 2015   \n",
       " 68                                       Oct 01, 2015   \n",
       " 69                                       Sep 01, 2015   \n",
       " 70  *Close price adjusted for splits.**Adjusted cl...   \n",
       " \n",
       "                                                  Open  \\\n",
       " 0                                              504.01   \n",
       " 1                                              512.65   \n",
       " 2                                              529.93   \n",
       " 3                                              545.57   \n",
       " 4                                              536.79   \n",
       " ..                                                ...   \n",
       " 66                                             124.47   \n",
       " 67                                             109.20   \n",
       " 68                                             102.91   \n",
       " 69                                             109.35   \n",
       " 70  *Close price adjusted for splits.**Adjusted cl...   \n",
       " \n",
       "                                                  High  \\\n",
       " 0                                              536.13   \n",
       " 1                                              518.95   \n",
       " 2                                              563.56   \n",
       " 3                                              556.99   \n",
       " 4                                              566.65   \n",
       " ..                                                ...   \n",
       " 66                                             133.27   \n",
       " 67                                             126.60   \n",
       " 68                                             115.83   \n",
       " 69                                             111.24   \n",
       " 70  *Close price adjusted for splits.**Adjusted cl...   \n",
       " \n",
       "                                                   Low  \\\n",
       " 0                                              482.14   \n",
       " 1                                              478.54   \n",
       " 2                                              499.00   \n",
       " 3                                              492.85   \n",
       " 4                                              518.28   \n",
       " ..                                                ...   \n",
       " 66                                             113.85   \n",
       " 67                                             101.86   \n",
       " 68                                              96.26   \n",
       " 69                                              93.55   \n",
       " 70  *Close price adjusted for splits.**Adjusted cl...   \n",
       " \n",
       "                                                Close*  \\\n",
       " 0                                              528.21   \n",
       " 1                                              502.81   \n",
       " 2                                              513.47   \n",
       " 3                                              521.66   \n",
       " 4                                              538.85   \n",
       " ..                                                ...   \n",
       " 66                                             114.38   \n",
       " 67                                             123.33   \n",
       " 68                                             108.38   \n",
       " 69                                             103.26   \n",
       " 70  *Close price adjusted for splits.**Adjusted cl...   \n",
       " \n",
       "                                           Adj Close**  \\\n",
       " 0                                              528.21   \n",
       " 1                                              502.81   \n",
       " 2                                              513.47   \n",
       " 3                                              521.66   \n",
       " 4                                              538.85   \n",
       " ..                                                ...   \n",
       " 66                                             114.38   \n",
       " 67                                             123.33   \n",
       " 68                                             108.38   \n",
       " 69                                             103.26   \n",
       " 70  *Close price adjusted for splits.**Adjusted cl...   \n",
       " \n",
       "                                                Volume  \n",
       " 0                                            78560600  \n",
       " 1                                            66927600  \n",
       " 2                                           111573300  \n",
       " 3                                            90183900  \n",
       " 4                                            61902300  \n",
       " ..                                                ...  \n",
       " 66                                          319939200  \n",
       " 67                                          320321800  \n",
       " 68                                          446204400  \n",
       " 69                                          497401200  \n",
       " 70  *Close price adjusted for splits.**Adjusted cl...  \n",
       " \n",
       " [71 rows x 7 columns]]"
      ]
     },
     "execution_count": 4,
     "metadata": {},
     "output_type": "execute_result"
    }
   ],
   "source": [
    "import pandas as pd\n",
    "from bs4 import BeautifulSoup\n",
    "url = \"https://cf-courses-data.s3.us.cloud-object-storage.appdomain.cloud/IBMDeveloperSkillsNetwork-PY0220EN-SkillsNetwork/labs/project/netflix_data_webpage.html\"\n",
    "read_html_pandas_data = pd.read_html(url)\n",
    "read_html_pandas_data\n"
   ]
  },
  {
   "cell_type": "markdown",
   "metadata": {},
   "source": [
    "Or we can convert the BeautifulSoup object to a string\n"
   ]
  },
  {
   "cell_type": "code",
   "execution_count": 10,
   "metadata": {},
   "outputs": [
    {
     "data": {
      "text/plain": [
       "[                                                 Date  \\\n",
       " 0                                        Jun 01, 2021   \n",
       " 1                                        May 01, 2021   \n",
       " 2                                        Apr 01, 2021   \n",
       " 3                                        Mar 01, 2021   \n",
       " 4                                        Feb 01, 2021   \n",
       " ..                                                ...   \n",
       " 66                                       Dec 01, 2015   \n",
       " 67                                       Nov 01, 2015   \n",
       " 68                                       Oct 01, 2015   \n",
       " 69                                       Sep 01, 2015   \n",
       " 70  *Close price adjusted for splits.**Adjusted cl...   \n",
       " \n",
       "                                                  Open  \\\n",
       " 0                                              504.01   \n",
       " 1                                              512.65   \n",
       " 2                                              529.93   \n",
       " 3                                              545.57   \n",
       " 4                                              536.79   \n",
       " ..                                                ...   \n",
       " 66                                             124.47   \n",
       " 67                                             109.20   \n",
       " 68                                             102.91   \n",
       " 69                                             109.35   \n",
       " 70  *Close price adjusted for splits.**Adjusted cl...   \n",
       " \n",
       "                                                  High  \\\n",
       " 0                                              536.13   \n",
       " 1                                              518.95   \n",
       " 2                                              563.56   \n",
       " 3                                              556.99   \n",
       " 4                                              566.65   \n",
       " ..                                                ...   \n",
       " 66                                             133.27   \n",
       " 67                                             126.60   \n",
       " 68                                             115.83   \n",
       " 69                                             111.24   \n",
       " 70  *Close price adjusted for splits.**Adjusted cl...   \n",
       " \n",
       "                                                   Low  \\\n",
       " 0                                              482.14   \n",
       " 1                                              478.54   \n",
       " 2                                              499.00   \n",
       " 3                                              492.85   \n",
       " 4                                              518.28   \n",
       " ..                                                ...   \n",
       " 66                                             113.85   \n",
       " 67                                             101.86   \n",
       " 68                                              96.26   \n",
       " 69                                              93.55   \n",
       " 70  *Close price adjusted for splits.**Adjusted cl...   \n",
       " \n",
       "                                                Close*  \\\n",
       " 0                                              528.21   \n",
       " 1                                              502.81   \n",
       " 2                                              513.47   \n",
       " 3                                              521.66   \n",
       " 4                                              538.85   \n",
       " ..                                                ...   \n",
       " 66                                             114.38   \n",
       " 67                                             123.33   \n",
       " 68                                             108.38   \n",
       " 69                                             103.26   \n",
       " 70  *Close price adjusted for splits.**Adjusted cl...   \n",
       " \n",
       "                                           Adj Close**  \\\n",
       " 0                                              528.21   \n",
       " 1                                              502.81   \n",
       " 2                                              513.47   \n",
       " 3                                              521.66   \n",
       " 4                                              538.85   \n",
       " ..                                                ...   \n",
       " 66                                             114.38   \n",
       " 67                                             123.33   \n",
       " 68                                             108.38   \n",
       " 69                                             103.26   \n",
       " 70  *Close price adjusted for splits.**Adjusted cl...   \n",
       " \n",
       "                                                Volume  \n",
       " 0                                            78560600  \n",
       " 1                                            66927600  \n",
       " 2                                           111573300  \n",
       " 3                                            90183900  \n",
       " 4                                            61902300  \n",
       " ..                                                ...  \n",
       " 66                                          319939200  \n",
       " 67                                          320321800  \n",
       " 68                                          446204400  \n",
       " 69                                          497401200  \n",
       " 70  *Close price adjusted for splits.**Adjusted cl...  \n",
       " \n",
       " [71 rows x 7 columns]]"
      ]
     },
     "execution_count": 10,
     "metadata": {},
     "output_type": "execute_result"
    }
   ],
   "source": [
    "read_html_pandas_data = pd.read_html(str(soup))\n",
    "read_html_pandas_data"
   ]
  },
  {
   "cell_type": "markdown",
   "metadata": {},
   "source": [
    "Beacause there is only one table on the page, we just take the first table in the list returned\n"
   ]
  },
  {
   "cell_type": "code",
   "execution_count": 11,
   "metadata": {},
   "outputs": [
    {
     "data": {
      "text/html": [
       "<div>\n",
       "<style scoped>\n",
       "    .dataframe tbody tr th:only-of-type {\n",
       "        vertical-align: middle;\n",
       "    }\n",
       "\n",
       "    .dataframe tbody tr th {\n",
       "        vertical-align: top;\n",
       "    }\n",
       "\n",
       "    .dataframe thead th {\n",
       "        text-align: right;\n",
       "    }\n",
       "</style>\n",
       "<table border=\"1\" class=\"dataframe\">\n",
       "  <thead>\n",
       "    <tr style=\"text-align: right;\">\n",
       "      <th></th>\n",
       "      <th>Date</th>\n",
       "      <th>Open</th>\n",
       "      <th>High</th>\n",
       "      <th>Low</th>\n",
       "      <th>Close*</th>\n",
       "      <th>Adj Close**</th>\n",
       "      <th>Volume</th>\n",
       "    </tr>\n",
       "  </thead>\n",
       "  <tbody>\n",
       "    <tr>\n",
       "      <th>0</th>\n",
       "      <td>Jun 01, 2021</td>\n",
       "      <td>504.01</td>\n",
       "      <td>536.13</td>\n",
       "      <td>482.14</td>\n",
       "      <td>528.21</td>\n",
       "      <td>528.21</td>\n",
       "      <td>78560600</td>\n",
       "    </tr>\n",
       "    <tr>\n",
       "      <th>1</th>\n",
       "      <td>May 01, 2021</td>\n",
       "      <td>512.65</td>\n",
       "      <td>518.95</td>\n",
       "      <td>478.54</td>\n",
       "      <td>502.81</td>\n",
       "      <td>502.81</td>\n",
       "      <td>66927600</td>\n",
       "    </tr>\n",
       "    <tr>\n",
       "      <th>2</th>\n",
       "      <td>Apr 01, 2021</td>\n",
       "      <td>529.93</td>\n",
       "      <td>563.56</td>\n",
       "      <td>499.00</td>\n",
       "      <td>513.47</td>\n",
       "      <td>513.47</td>\n",
       "      <td>111573300</td>\n",
       "    </tr>\n",
       "    <tr>\n",
       "      <th>3</th>\n",
       "      <td>Mar 01, 2021</td>\n",
       "      <td>545.57</td>\n",
       "      <td>556.99</td>\n",
       "      <td>492.85</td>\n",
       "      <td>521.66</td>\n",
       "      <td>521.66</td>\n",
       "      <td>90183900</td>\n",
       "    </tr>\n",
       "    <tr>\n",
       "      <th>4</th>\n",
       "      <td>Feb 01, 2021</td>\n",
       "      <td>536.79</td>\n",
       "      <td>566.65</td>\n",
       "      <td>518.28</td>\n",
       "      <td>538.85</td>\n",
       "      <td>538.85</td>\n",
       "      <td>61902300</td>\n",
       "    </tr>\n",
       "  </tbody>\n",
       "</table>\n",
       "</div>"
      ],
      "text/plain": [
       "           Date    Open    High     Low  Close* Adj Close**     Volume\n",
       "0  Jun 01, 2021  504.01  536.13  482.14  528.21      528.21   78560600\n",
       "1  May 01, 2021  512.65  518.95  478.54  502.81      502.81   66927600\n",
       "2  Apr 01, 2021  529.93  563.56  499.00  513.47      513.47  111573300\n",
       "3  Mar 01, 2021  545.57  556.99  492.85  521.66      521.66   90183900\n",
       "4  Feb 01, 2021  536.79  566.65  518.28  538.85      538.85   61902300"
      ]
     },
     "execution_count": 11,
     "metadata": {},
     "output_type": "execute_result"
    }
   ],
   "source": [
    "netflix_dataframe = read_html_pandas_data[0]\n",
    "\n",
    "netflix_dataframe.head()"
   ]
  }
 ],
 "metadata": {
  "kernelspec": {
   "display_name": "Python 3 (ipykernel)",
   "language": "python",
   "name": "python3"
  },
  "language_info": {
   "codemirror_mode": {
    "name": "ipython",
    "version": 3
   },
   "file_extension": ".py",
   "mimetype": "text/x-python",
   "name": "python",
   "nbconvert_exporter": "python",
   "pygments_lexer": "ipython3",
   "version": "3.9.7"
  }
 },
 "nbformat": 4,
 "nbformat_minor": 4
}
